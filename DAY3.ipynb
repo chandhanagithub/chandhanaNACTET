{
  "nbformat": 4,
  "nbformat_minor": 0,
  "metadata": {
    "colab": {
      "name": "DAY3.ipynb",
      "provenance": [],
      "collapsed_sections": []
    },
    "kernelspec": {
      "name": "python3",
      "display_name": "Python 3"
    }
  },
  "cells": [
    {
      "cell_type": "markdown",
      "metadata": {
        "id": "mdwZB7PBD5DQ"
      },
      "source": [
        "Using if and else if for grading based on the user input"
      ]
    },
    {
      "cell_type": "code",
      "metadata": {
        "colab": {
          "base_uri": "https://localhost:8080/"
        },
        "id": "KJrINAAfEMMH",
        "outputId": "ff50238e-fc48-4575-ea9e-883215f50d70"
      },
      "source": [
        " \n",
        "name = input(\"Please enter your name\")\n",
        "marks = int(input(\"Please enter your marks\"))\n",
        "if marks>90:\n",
        "  print(name,\"has got A grade!\")\n",
        "elif marks>80:\n",
        "  print(name,\"has got B grade!\")\n",
        "elif marks>70:\n",
        "  print(name,\"has got C grade!\")\n",
        "elif marks>60:\n",
        "  print(name,\"has got D grade!\")\n",
        "else:\n",
        "  print(name,\"has failed!\")"
      ],
      "execution_count": null,
      "outputs": [
        {
          "output_type": "stream",
          "text": [
            "Please enter your nameCamay\n",
            "Please enter your marks73\n",
            "Camay has got C grade!\n"
          ],
          "name": "stdout"
        }
      ]
    },
    {
      "cell_type": "markdown",
      "metadata": {
        "id": "dsnz37hNEZEg"
      },
      "source": [
        " In a list of marks - print only failed marks - below 60"
      ]
    },
    {
      "cell_type": "code",
      "metadata": {
        "id": "bMIV4nZ8E5TH"
      },
      "source": [
        "studentmarks = {\n",
        "    'raju' : 70,\n",
        "    \"sumesh\" : 34,\n",
        "    \"rocky\" : 63,\n",
        "    \"soman\" : 90,\n",
        "    \"vasu\" : 20,\n",
        "    \"maneesh\" : 54\n",
        "}"
      ],
      "execution_count": null,
      "outputs": []
    },
    {
      "cell_type": "code",
      "metadata": {
        "colab": {
          "base_uri": "https://localhost:8080/"
        },
        "id": "1z76S2d3F6iw",
        "outputId": "ced2e5ad-aced-4e3e-a94a-3385ec645cd5"
      },
      "source": [
        "studentmarks.keys()"
      ],
      "execution_count": null,
      "outputs": [
        {
          "output_type": "execute_result",
          "data": {
            "text/plain": [
              "dict_keys(['raju', 'sumesh', 'rocky', 'soman', 'vasu', 'maneesh'])"
            ]
          },
          "metadata": {
            "tags": []
          },
          "execution_count": 3
        }
      ]
    },
    {
      "cell_type": "code",
      "metadata": {
        "colab": {
          "base_uri": "https://localhost:8080/"
        },
        "id": "zNse2f-LWTi6",
        "outputId": "c4782916-1368-4d4f-9df1-86e54af82453"
      },
      "source": [
        "for i in studentmarks.keys() :\n",
        "    if studentmarks[i]<60:\n",
        "     print(i,\"has failed\")"
      ],
      "execution_count": null,
      "outputs": [
        {
          "output_type": "stream",
          "text": [
            "sumesh has failed\n",
            "vasu has failed\n",
            "maneesh has failed\n"
          ],
          "name": "stdout"
        }
      ]
    },
    {
      "cell_type": "markdown",
      "metadata": {
        "id": "pBlW3tqBW5K8"
      },
      "source": [
        "Extend the username password block to support OTP verification"
      ]
    },
    {
      "cell_type": "code",
      "metadata": {
        "colab": {
          "base_uri": "https://localhost:8080/"
        },
        "id": "HZfzjfgpXNhP",
        "outputId": "701df8e4-e6e2-4f7e-fb62-ccced7d2ff51"
      },
      "source": [
        " \n",
        "Name= \"camay\"\n",
        "Password = \"123456\"\n",
        "one_time_password= \"453212\"\n",
        "username = input(\"Enter username:\")\n",
        "password = input(\"Enter password:\")\n",
        "if username==Name:\n",
        "  if password==Password:\n",
        "    print(\"Your OTP is- 453212\")\n",
        "  else:\n",
        "    print(\"The password you entered in wrong!\")\n",
        "else:\n",
        "  print(\"Invalid username\")\n",
        " \n",
        "otp= input(\"Please enter the OTP you received:\")\n",
        "if otp==one_time_password :\n",
        "  print(\"Welcome\",Name)\n",
        "else:\n",
        "  print(\"The OTP is wrong.\")"
      ],
      "execution_count": null,
      "outputs": [
        {
          "output_type": "stream",
          "text": [
            "Enter username:Camay\n",
            "Enter password:123456\n",
            "Invalid username\n",
            "Please enter the OTP you received:453212\n",
            "Welcome camay\n"
          ],
          "name": "stdout"
        }
      ]
    }
  ]
}