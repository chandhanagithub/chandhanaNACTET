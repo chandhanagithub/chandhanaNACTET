{
  "nbformat": 4,
  "nbformat_minor": 0,
  "metadata": {
    "colab": {
      "name": "DAY2.ipynb",
      "provenance": [],
      "collapsed_sections": []
    },
    "kernelspec": {
      "name": "python3",
      "display_name": "Python 3"
    }
  },
  "cells": [
    {
      "cell_type": "code",
      "metadata": {
        "colab": {
          "base_uri": "https://localhost:8080/"
        },
        "id": "_3XrajgJ6hyT",
        "outputId": "f845ff80-1a1e-445e-e372-d099659c2522"
      },
      "source": [
        "studentsmarks = {\n",
        "    \"Ravi\" : 95 ,\n",
        "    \"Raju\" : 43 ,\n",
        "    \"Jane\" : 78 ,\n",
        "    \"Pooja\" : 57,\n",
        "    \"Rahu\" : 83,\n",
        "}\n",
        "studentsmarks[\"Ravi\"]"
      ],
      "execution_count": 1,
      "outputs": [
        {
          "output_type": "execute_result",
          "data": {
            "text/plain": [
              "95"
            ]
          },
          "metadata": {
            "tags": []
          },
          "execution_count": 1
        }
      ]
    },
    {
      "cell_type": "code",
      "metadata": {
        "colab": {
          "base_uri": "https://localhost:8080/"
        },
        "id": "IOB7agL7DW4r",
        "outputId": "096556b9-9977-42c7-8f88-15afac8f929a"
      },
      "source": [
        "studentsmarks.keys()"
      ],
      "execution_count": null,
      "outputs": [
        {
          "output_type": "execute_result",
          "data": {
            "text/plain": [
              "dict_keys(['Ravi', 'Raju', 'Jane', 'Pooja', 'Rahu'])"
            ]
          },
          "metadata": {
            "tags": []
          },
          "execution_count": 14
        }
      ]
    },
    {
      "cell_type": "code",
      "metadata": {
        "colab": {
          "base_uri": "https://localhost:8080/"
        },
        "id": "Eu6oTmyODpcW",
        "outputId": "d7f883c5-e88f-4727-d9ae-db8b17ea1077"
      },
      "source": [
        "for key in studentsmarks.keys():\n",
        "    #print(key)\n",
        "    #print(studentmarks[key])\n",
        "    #pass criteria is 60\n",
        "    if studentsmarks[key] > 60 :\n",
        "      print(key+\" has passed\")"
      ],
      "execution_count": null,
      "outputs": [
        {
          "output_type": "stream",
          "text": [
            "Ravi has passed\n",
            "Jane has passed\n",
            "Rahu has passed\n"
          ],
          "name": "stdout"
        }
      ]
    }
  ]
}